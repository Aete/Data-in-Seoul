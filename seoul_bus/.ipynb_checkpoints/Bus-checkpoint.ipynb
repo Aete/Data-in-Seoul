{
 "cells": [
  {
   "cell_type": "code",
   "execution_count": 1,
   "metadata": {},
   "outputs": [],
   "source": [
    "# import Libraries\n",
    "\n",
    "import pandas as pd\n",
    "import os\n",
    "import folium"
   ]
  },
  {
   "cell_type": "code",
   "execution_count": 2,
   "metadata": {},
   "outputs": [],
   "source": [
    "boarding_info = pd.read_csv('boarding_info.csv', encoding='utf-8')"
   ]
  },
  {
   "cell_type": "code",
   "execution_count": 5,
   "metadata": {},
   "outputs": [],
   "source": [
    "days = set(boarding_info['Day'])\n",
    "stops = set(boarding_info['Stopno'])"
   ]
  },
  {
   "cell_type": "code",
   "execution_count": 6,
   "metadata": {},
   "outputs": [],
   "source": [
    "avg_ = {\n",
    "    'line' : [],\n",
    "    'stopno' : [],\n",
    "    'on' : [],\n",
    "    'off' : []\n",
    "}"
   ]
  },
  {
   "cell_type": "code",
   "execution_count": 7,
   "metadata": {},
   "outputs": [],
   "source": [
    "for s in stops:\n",
    "    stop_info = boarding_info[boarding_info['Stopno']==s]\n",
    "    lines = set(stop_info['Line'])\n",
    "    for l in lines:\n",
    "        line_info = stop_info[stop_info['Line']==l]\n",
    "        on_ = 0\n",
    "        off_ = 0\n",
    "        for i, row in line_info.iterrows():\n",
    "            on_ += int(row['geton'])\n",
    "            off_ += int(row['off'])\n",
    "        avg_on = on_/len(line_info)\n",
    "        avg_off = off_/len(line_info)\n",
    "        avg_['line'].append(l)\n",
    "        avg_['stopno'].append(s)\n",
    "        avg_['on'].append(avg_on)\n",
    "        avg_['off'].append(avg_off)\n"
   ]
  },
  {
   "cell_type": "code",
   "execution_count": 9,
   "metadata": {},
   "outputs": [],
   "source": [
    "boarding_avg = pd.DataFrame(avg_)"
   ]
  },
  {
   "cell_type": "code",
   "execution_count": 15,
   "metadata": {},
   "outputs": [],
   "source": [
    "boarding_avg.to_csv('boarding_avg.csv')"
   ]
  },
  {
   "cell_type": "code",
   "execution_count": 2,
   "metadata": {},
   "outputs": [],
   "source": [
    "## plase start at this code after you save boarding_avg.csv\n",
    "boarding_avg = pd.read_csv('boarding_avg.csv')"
   ]
  },
  {
   "cell_type": "code",
   "execution_count": 3,
   "metadata": {},
   "outputs": [],
   "source": [
    "stop_loc = pd.read_csv('busstop_LOC.csv')"
   ]
  },
  {
   "cell_type": "code",
   "execution_count": 4,
   "metadata": {},
   "outputs": [],
   "source": [
    "df_fin = stop_loc.join(boarding_avg.set_index('stopno'), on='stopNo')"
   ]
  },
  {
   "cell_type": "code",
   "execution_count": 9,
   "metadata": {},
   "outputs": [],
   "source": [
    "df_fin = df_fin.drop(columns=['Unnamed: 0']).dropna(0)"
   ]
  },
  {
   "cell_type": "code",
   "execution_count": 44,
   "metadata": {},
   "outputs": [],
   "source": [
    "stops = set(df_fin['stopNo'])"
   ]
  },
  {
   "cell_type": "code",
   "execution_count": 58,
   "metadata": {},
   "outputs": [],
   "source": [
    "total_ = {\n",
    "    'stopNo' : [],\n",
    "    'on' : [],\n",
    "    'off' : [],\n",
    "    'x' :[],\n",
    "    'y' : []\n",
    "}"
   ]
  },
  {
   "cell_type": "code",
   "execution_count": 56,
   "metadata": {},
   "outputs": [
    {
     "data": {
      "text/html": [
       "<div>\n",
       "<style scoped>\n",
       "    .dataframe tbody tr th:only-of-type {\n",
       "        vertical-align: middle;\n",
       "    }\n",
       "\n",
       "    .dataframe tbody tr th {\n",
       "        vertical-align: top;\n",
       "    }\n",
       "\n",
       "    .dataframe thead th {\n",
       "        text-align: right;\n",
       "    }\n",
       "</style>\n",
       "<table border=\"1\" class=\"dataframe\">\n",
       "  <thead>\n",
       "    <tr style=\"text-align: right;\">\n",
       "      <th></th>\n",
       "      <th>stopNo</th>\n",
       "      <th>x</th>\n",
       "      <th>y</th>\n",
       "      <th>line</th>\n",
       "      <th>on</th>\n",
       "      <th>off</th>\n",
       "    </tr>\n",
       "  </thead>\n",
       "  <tbody>\n",
       "    <tr>\n",
       "      <th>0</th>\n",
       "      <td>1001</td>\n",
       "      <td>126.987750</td>\n",
       "      <td>37.569765</td>\n",
       "      <td>470</td>\n",
       "      <td>88.074074</td>\n",
       "      <td>358.851852</td>\n",
       "    </tr>\n",
       "    <tr>\n",
       "      <th>0</th>\n",
       "      <td>1001</td>\n",
       "      <td>126.987750</td>\n",
       "      <td>37.569765</td>\n",
       "      <td>N37</td>\n",
       "      <td>16.574074</td>\n",
       "      <td>14.981481</td>\n",
       "    </tr>\n",
       "    <tr>\n",
       "      <th>0</th>\n",
       "      <td>1001</td>\n",
       "      <td>126.987750</td>\n",
       "      <td>37.569765</td>\n",
       "      <td>741</td>\n",
       "      <td>71.846154</td>\n",
       "      <td>175.615385</td>\n",
       "    </tr>\n",
       "    <tr>\n",
       "      <th>1</th>\n",
       "      <td>1002</td>\n",
       "      <td>126.996566</td>\n",
       "      <td>37.579183</td>\n",
       "      <td>172</td>\n",
       "      <td>138.259259</td>\n",
       "      <td>112.259259</td>\n",
       "    </tr>\n",
       "    <tr>\n",
       "      <th>1</th>\n",
       "      <td>1002</td>\n",
       "      <td>126.996566</td>\n",
       "      <td>37.579183</td>\n",
       "      <td>301</td>\n",
       "      <td>148.111111</td>\n",
       "      <td>55.259259</td>\n",
       "    </tr>\n",
       "  </tbody>\n",
       "</table>\n",
       "</div>"
      ],
      "text/plain": [
       "   stopNo           x          y line          on         off\n",
       "0    1001  126.987750  37.569765  470   88.074074  358.851852\n",
       "0    1001  126.987750  37.569765  N37   16.574074   14.981481\n",
       "0    1001  126.987750  37.569765  741   71.846154  175.615385\n",
       "1    1002  126.996566  37.579183  172  138.259259  112.259259\n",
       "1    1002  126.996566  37.579183  301  148.111111   55.259259"
      ]
     },
     "execution_count": 56,
     "metadata": {},
     "output_type": "execute_result"
    }
   ],
   "source": [
    "df_fin.head()"
   ]
  },
  {
   "cell_type": "code",
   "execution_count": 59,
   "metadata": {},
   "outputs": [],
   "source": [
    "for s in stops:\n",
    "    stop_info = df_fin[df_fin['stopNo']==s]\n",
    "    on_ = 0\n",
    "    off_ = 0\n",
    "    x = df_fin[df_fin['stopNo']==s]['x']\n",
    "    y = df_fin[df_fin['stopNo']==s]['y']\n",
    "    for i, row in stop_info.iterrows():\n",
    "        on_ += row['on']\n",
    "        off_ += row['off']\n",
    "    total_['stopNo'].append(s)\n",
    "    total_['on'].append(int(on_))\n",
    "    total_['off'].append(int(off_))\n",
    "    total_['x'].append(x)\n",
    "    total_['y'].append(y)"
   ]
  },
  {
   "cell_type": "code",
   "execution_count": 54,
   "metadata": {},
   "outputs": [
    {
     "data": {
      "text/html": [
       "<div>\n",
       "<style scoped>\n",
       "    .dataframe tbody tr th:only-of-type {\n",
       "        vertical-align: middle;\n",
       "    }\n",
       "\n",
       "    .dataframe tbody tr th {\n",
       "        vertical-align: top;\n",
       "    }\n",
       "\n",
       "    .dataframe thead th {\n",
       "        text-align: right;\n",
       "    }\n",
       "</style>\n",
       "<table border=\"1\" class=\"dataframe\">\n",
       "  <thead>\n",
       "    <tr style=\"text-align: right;\">\n",
       "      <th></th>\n",
       "      <th>stopNo</th>\n",
       "      <th>on</th>\n",
       "      <th>off</th>\n",
       "    </tr>\n",
       "  </thead>\n",
       "  <tbody>\n",
       "    <tr>\n",
       "      <th>0</th>\n",
       "      <td>1001</td>\n",
       "      <td>176</td>\n",
       "      <td>549</td>\n",
       "    </tr>\n",
       "    <tr>\n",
       "      <th>1</th>\n",
       "      <td>1002</td>\n",
       "      <td>2557</td>\n",
       "      <td>2115</td>\n",
       "    </tr>\n",
       "    <tr>\n",
       "      <th>2</th>\n",
       "      <td>1003</td>\n",
       "      <td>4488</td>\n",
       "      <td>3263</td>\n",
       "    </tr>\n",
       "    <tr>\n",
       "      <th>3</th>\n",
       "      <td>1004</td>\n",
       "      <td>791</td>\n",
       "      <td>707</td>\n",
       "    </tr>\n",
       "    <tr>\n",
       "      <th>4</th>\n",
       "      <td>1005</td>\n",
       "      <td>1781</td>\n",
       "      <td>3128</td>\n",
       "    </tr>\n",
       "  </tbody>\n",
       "</table>\n",
       "</div>"
      ],
      "text/plain": [
       "   stopNo    on   off\n",
       "0    1001   176   549\n",
       "1    1002  2557  2115\n",
       "2    1003  4488  3263\n",
       "3    1004   791   707\n",
       "4    1005  1781  3128"
      ]
     },
     "execution_count": 54,
     "metadata": {},
     "output_type": "execute_result"
    }
   ],
   "source": [
    "total_df = pd.DataFrame(total_)\n",
    "total_df.head()"
   ]
  },
  {
   "cell_type": "code",
   "execution_count": 41,
   "metadata": {},
   "outputs": [],
   "source": [
    "import math\n",
    "map_on = folium.Map(location=[37.566047, 126.977702], tiles='Stamen Toner', zoom_start=15)\n",
    "for i, row in total_df.iterrows():\n",
    "    location = [float(row['y']),float(row['x'])]\n",
    "    folium.Circle(\n",
    "        location = location,\n",
    "        radius = 10,\n",
    "        color='ffffff',\n",
    "        fill_opacity=0.6,\n",
    "        fill_color='#4DD0E1',\n",
    "        popup = 'Station : ' + str(row['stopNo']) + '<br>' +\n",
    "        'Get on : ' + str(\"{:,} person/day\".format(int(row['on'])) + '<br>' +\n",
    "        'Get off : ' + str(\"{:,} person/day\".format(int(row['off'])),\n",
    "        fill=True\n",
    "    ).add_to(map_on)"
   ]
  },
  {
   "cell_type": "code",
   "execution_count": null,
   "metadata": {},
   "outputs": [],
   "source": []
  },
  {
   "cell_type": "code",
   "execution_count": 42,
   "metadata": {},
   "outputs": [],
   "source": [
    "map_on.save('test.html')"
   ]
  }
 ],
 "metadata": {
  "kernelspec": {
   "display_name": "Python 3",
   "language": "python",
   "name": "python3"
  },
  "language_info": {
   "codemirror_mode": {
    "name": "ipython",
    "version": 3
   },
   "file_extension": ".py",
   "mimetype": "text/x-python",
   "name": "python",
   "nbconvert_exporter": "python",
   "pygments_lexer": "ipython3",
   "version": "3.7.0"
  }
 },
 "nbformat": 4,
 "nbformat_minor": 2
}
